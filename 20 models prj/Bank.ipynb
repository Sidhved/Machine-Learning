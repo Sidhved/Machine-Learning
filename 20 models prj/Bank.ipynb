{
  "nbformat": 4,
  "nbformat_minor": 0,
  "metadata": {
    "colab": {
      "name": "Bank.ipynb",
      "provenance": []
    },
    "kernelspec": {
      "name": "python392jvsc74a57bd033dc6d49505b4536b6a128d9d7c879e1fa44477ad44947bbbe73093067fe6393",
      "display_name": "Python 3.9.2 64-bit"
    },
    "language_info": {
      "name": "python",
      "version": "3.9.2"
    },
    "metadata": {
      "interpreter": {
        "hash": "33dc6d49505b4536b6a128d9d7c879e1fa44477ad44947bbbe73093067fe6393"
      }
    }
  },
  "cells": [
    {
      "cell_type": "code",
      "metadata": {
        "id": "j9bviO7fHXPH"
      },
      "source": [
        "#path for dataset\n",
        "path = \"/data/banking.csv\""
      ],
      "execution_count": 1,
      "outputs": []
    },
    {
      "cell_type": "code",
      "execution_count": null,
      "metadata": {},
      "outputs": [],
      "source": [
        "import pandas as pd\n",
        "import numpy as np\n",
        "from sklearn import preprocessing\n",
        "import matplotlib.pyplot as plt\n",
        "import seaborn as sns\n",
        "from imblearn.over_sampling import SMOTE\n",
        "from sklearn.linear_model import LogisticRegression\n",
        "from sklearn.model_selection import train_test_split"
      ]
    },
    {
      "cell_type": "code",
      "metadata": {
        "colab": {
          "base_uri": "https://localhost:8080/"
        },
        "id": "fRc8tzi9IkZQ",
        "outputId": "3f885225-d83c-458d-d41e-bd3f8adcef05"
      },
      "source": [
        "data = pd.read_csv(path)\n",
        "data.fillna(data.mean(), inplace = True)\n",
        "print(data.shape)\n",
        "print(list(data.columns))"
      ],
      "execution_count": null,
      "outputs": []
    },
    {
      "cell_type": "code",
      "metadata": {
        "colab": {
          "base_uri": "https://localhost:8080/"
        },
        "id": "z8HQps8xIviK",
        "outputId": "a4bc6180-2886-40b5-8cec-516594b47464"
      },
      "source": [
        "data.info"
      ],
      "execution_count": null,
      "outputs": []
    },
    {
      "cell_type": "code",
      "metadata": {
        "colab": {
          "base_uri": "https://localhost:8080/"
        },
        "id": "5Mq5O4C6MXs1",
        "outputId": "ecd13ead-39f9-453e-a96f-b2048459ffa1"
      },
      "source": [
        "#grouping basic.9y, basic.6y and basic.4y\n",
        "data['education']=np.where(data['education'] =='basic.9y', 'Basic', data['education'])\n",
        "data['education']=np.where(data['education'] =='basic.6y', 'Basic', data['education'])\n",
        "data['education']=np.where(data['education'] =='basic.4y', 'Basic', data['education'])\n",
        "data['education'].unique()"
      ],
      "execution_count": null,
      "outputs": []
    },
    {
      "cell_type": "code",
      "metadata": {
        "colab": {
          "base_uri": "https://localhost:8080/"
        },
        "id": "IeXK44U4gmm6",
        "outputId": "7b8a3d50-8131-45be-f7e9-8d3e48021bbe"
      },
      "source": [
        "count_no_sub = len(data[data['y']==0])\n",
        "count_sub = len(data[data['y']==1])\n",
        "pct_of_no_sub = count_no_sub/(count_no_sub+count_sub)\n",
        "print(\"percentage of no subscription is\", pct_of_no_sub*100)\n",
        "pct_of_sub = count_sub/(count_no_sub+count_sub)\n",
        "print(\"percentage of subscription\", pct_of_sub*100)"
      ],
      "execution_count": null,
      "outputs": []
    },
    {
      "cell_type": "code",
      "metadata": {
        "colab": {
          "base_uri": "https://localhost:8080/"
        },
        "id": "avVTPopOgqH2",
        "outputId": "aff259da-e5ab-4a38-c5bb-23b6c2d00558"
      },
      "source": [
        "print(data.groupby('job').mean())\n",
        "print(data.groupby('marital').mean())\n",
        "print(data.groupby('education').mean())"
      ],
      "execution_count": null,
      "outputs": []
    },
    {
      "cell_type": "code",
      "metadata": {
        "colab": {
          "base_uri": "https://localhost:8080/"
        },
        "id": "m0YllOFpIxda",
        "outputId": "4e6f5a85-a902-4e40-a7f3-f29e15aacc88"
      },
      "source": [
        "print(data['education'].value_counts())"
      ],
      "execution_count": null,
      "outputs": []
    },
    {
      "cell_type": "code",
      "metadata": {
        "colab": {
          "base_uri": "https://localhost:8080/",
          "height": 416
        },
        "id": "lSthQpZMMCHe",
        "outputId": "4992e032-37b9-4ee3-f7e1-1fea75b0996d"
      },
      "source": [
        "#convert educational data into categorical equivalent\n",
        "replace_edu = {'education': {'Basic': 1, 'university.degree': 2, 'high.school': 3, 'professional.course': 4, 'unknown': 5, 'illiterate': 6}}\n",
        "dataEdu = data.copy()\n",
        "data = dataEdu.replace(replace_edu)\n",
        "data"
      ],
      "execution_count": null,
      "outputs": []
    },
    {
      "cell_type": "code",
      "metadata": {
        "colab": {
          "base_uri": "https://localhost:8080/"
        },
        "id": "SEJSuhaXNLxV",
        "outputId": "344da1e3-aac6-49a1-f1bf-369d9fc4dec3"
      },
      "source": [
        "print(data['job'].value_counts())"
      ],
      "execution_count": null,
      "outputs": []
    },
    {
      "cell_type": "code",
      "metadata": {
        "id": "H8M3XYfDTc6T"
      },
      "source": [
        "#convert job data into categorical equivalent\n",
        "replace_job = {'job': {'admin.': 1, 'blue-collar': 2, 'technician': 3, 'services': 4, 'management': 5, 'retired': 6, 'entrepreneur': 7, 'self-employed': 8, 'housemaid': 9, 'unemployed': 10, 'student': 11, 'unknown': 12}}\n",
        "dataJob = data.copy()\n",
        "data = dataJob.replace(replace_job)"
      ],
      "execution_count": null,
      "outputs": []
    },
    {
      "cell_type": "code",
      "metadata": {
        "colab": {
          "base_uri": "https://localhost:8080/"
        },
        "id": "spAsTH4bWOlY",
        "outputId": "874bb550-9dce-4340-d66c-d1a33ac437e5"
      },
      "source": [
        "print(data['month'].value_counts())"
      ],
      "execution_count": null,
      "outputs": []
    },
    {
      "cell_type": "code",
      "metadata": {
        "id": "epZb1dCRXFtO"
      },
      "source": [
        "#convert month data into categorical equivalent\n",
        "replace_mon = {'month': {'jan': 1, 'feb': 2, 'mar': 3, 'apr': 4, 'may': 5, 'jun': 6, 'jul': 7, 'aug': 8, 'sep': 9, 'oct': 10, 'nov': 11, 'dec': 12}}\n",
        "dataMon = data.copy()\n",
        "data = dataMon.replace(replace_mon)"
      ],
      "execution_count": null,
      "outputs": []
    },
    {
      "cell_type": "code",
      "metadata": {
        "colab": {
          "base_uri": "https://localhost:8080/"
        },
        "id": "0OJjocsbX64T",
        "outputId": "ffa3005d-b63b-462f-ba6c-3ada79053903"
      },
      "source": [
        "print(data['poutcome'].value_counts())"
      ],
      "execution_count": null,
      "outputs": []
    },
    {
      "cell_type": "code",
      "execution_count": null,
      "metadata": {},
      "outputs": [],
      "source": [
        "#convert poutcome data into categorical equivalent\n",
        "replace_Pout = {'poutcome': {'failure': 0, 'success': 1, 'nonexistent':2}}\n",
        "dataPout = data.copy()\n",
        "data = dataPout.replace(replace_Pout)"
      ]
    },
    {
      "cell_type": "code",
      "execution_count": null,
      "metadata": {},
      "outputs": [],
      "source": [
        "print(data['marital'].value_counts())"
      ]
    },
    {
      "cell_type": "code",
      "metadata": {
        "id": "fXl04WLihh-S"
      },
      "source": [
        "#convert Marital data into categorical equivalent\n",
        "replace_Mar = {'marital': {'married': 1, 'single': 2, 'divorced':3, 'unknown': 4}}\n",
        "dataMar = data.copy()\n",
        "data = dataMar.replace(replace_Mar)"
      ],
      "execution_count": null,
      "outputs": []
    },
    {
      "cell_type": "code",
      "metadata": {
        "colab": {
          "base_uri": "https://localhost:8080/",
          "height": 202
        },
        "id": "BzyKCfaKYhZB",
        "outputId": "a5df021d-f94e-4bd9-8f48-04f93a991da1"
      },
      "source": [
        "data.head()"
      ],
      "execution_count": null,
      "outputs": [
        {
          "output_type": "execute_result",
          "data": {
            "text/html": [
              "<div>\n",
              "<style scoped>\n",
              "    .dataframe tbody tr th:only-of-type {\n",
              "        vertical-align: middle;\n",
              "    }\n",
              "\n",
              "    .dataframe tbody tr th {\n",
              "        vertical-align: top;\n",
              "    }\n",
              "\n",
              "    .dataframe thead th {\n",
              "        text-align: right;\n",
              "    }\n",
              "</style>\n",
              "<table border=\"1\" class=\"dataframe\">\n",
              "  <thead>\n",
              "    <tr style=\"text-align: right;\">\n",
              "      <th></th>\n",
              "      <th>age</th>\n",
              "      <th>job</th>\n",
              "      <th>marital</th>\n",
              "      <th>education</th>\n",
              "      <th>default</th>\n",
              "      <th>housing</th>\n",
              "      <th>loan</th>\n",
              "      <th>contact</th>\n",
              "      <th>month</th>\n",
              "      <th>day_of_week</th>\n",
              "      <th>duration</th>\n",
              "      <th>campaign</th>\n",
              "      <th>pdays</th>\n",
              "      <th>previous</th>\n",
              "      <th>poutcome</th>\n",
              "      <th>emp_var_rate</th>\n",
              "      <th>cons_price_idx</th>\n",
              "      <th>cons_conf_idx</th>\n",
              "      <th>euribor3m</th>\n",
              "      <th>nr_employed</th>\n",
              "      <th>y</th>\n",
              "    </tr>\n",
              "  </thead>\n",
              "  <tbody>\n",
              "    <tr>\n",
              "      <th>0</th>\n",
              "      <td>44</td>\n",
              "      <td>2</td>\n",
              "      <td>1</td>\n",
              "      <td>1</td>\n",
              "      <td>unknown</td>\n",
              "      <td>yes</td>\n",
              "      <td>no</td>\n",
              "      <td>cellular</td>\n",
              "      <td>8</td>\n",
              "      <td>thu</td>\n",
              "      <td>210</td>\n",
              "      <td>1</td>\n",
              "      <td>999</td>\n",
              "      <td>0</td>\n",
              "      <td>2</td>\n",
              "      <td>1.4</td>\n",
              "      <td>93.444</td>\n",
              "      <td>-36.1</td>\n",
              "      <td>4.963</td>\n",
              "      <td>5228.1</td>\n",
              "      <td>0</td>\n",
              "    </tr>\n",
              "    <tr>\n",
              "      <th>1</th>\n",
              "      <td>53</td>\n",
              "      <td>3</td>\n",
              "      <td>1</td>\n",
              "      <td>5</td>\n",
              "      <td>no</td>\n",
              "      <td>no</td>\n",
              "      <td>no</td>\n",
              "      <td>cellular</td>\n",
              "      <td>11</td>\n",
              "      <td>fri</td>\n",
              "      <td>138</td>\n",
              "      <td>1</td>\n",
              "      <td>999</td>\n",
              "      <td>0</td>\n",
              "      <td>2</td>\n",
              "      <td>-0.1</td>\n",
              "      <td>93.200</td>\n",
              "      <td>-42.0</td>\n",
              "      <td>4.021</td>\n",
              "      <td>5195.8</td>\n",
              "      <td>0</td>\n",
              "    </tr>\n",
              "    <tr>\n",
              "      <th>2</th>\n",
              "      <td>28</td>\n",
              "      <td>5</td>\n",
              "      <td>2</td>\n",
              "      <td>2</td>\n",
              "      <td>no</td>\n",
              "      <td>yes</td>\n",
              "      <td>no</td>\n",
              "      <td>cellular</td>\n",
              "      <td>6</td>\n",
              "      <td>thu</td>\n",
              "      <td>339</td>\n",
              "      <td>3</td>\n",
              "      <td>6</td>\n",
              "      <td>2</td>\n",
              "      <td>1</td>\n",
              "      <td>-1.7</td>\n",
              "      <td>94.055</td>\n",
              "      <td>-39.8</td>\n",
              "      <td>0.729</td>\n",
              "      <td>4991.6</td>\n",
              "      <td>1</td>\n",
              "    </tr>\n",
              "    <tr>\n",
              "      <th>3</th>\n",
              "      <td>39</td>\n",
              "      <td>4</td>\n",
              "      <td>1</td>\n",
              "      <td>3</td>\n",
              "      <td>no</td>\n",
              "      <td>no</td>\n",
              "      <td>no</td>\n",
              "      <td>cellular</td>\n",
              "      <td>4</td>\n",
              "      <td>fri</td>\n",
              "      <td>185</td>\n",
              "      <td>2</td>\n",
              "      <td>999</td>\n",
              "      <td>0</td>\n",
              "      <td>2</td>\n",
              "      <td>-1.8</td>\n",
              "      <td>93.075</td>\n",
              "      <td>-47.1</td>\n",
              "      <td>1.405</td>\n",
              "      <td>5099.1</td>\n",
              "      <td>0</td>\n",
              "    </tr>\n",
              "    <tr>\n",
              "      <th>4</th>\n",
              "      <td>55</td>\n",
              "      <td>6</td>\n",
              "      <td>1</td>\n",
              "      <td>1</td>\n",
              "      <td>no</td>\n",
              "      <td>yes</td>\n",
              "      <td>no</td>\n",
              "      <td>cellular</td>\n",
              "      <td>8</td>\n",
              "      <td>fri</td>\n",
              "      <td>137</td>\n",
              "      <td>1</td>\n",
              "      <td>3</td>\n",
              "      <td>1</td>\n",
              "      <td>1</td>\n",
              "      <td>-2.9</td>\n",
              "      <td>92.201</td>\n",
              "      <td>-31.4</td>\n",
              "      <td>0.869</td>\n",
              "      <td>5076.2</td>\n",
              "      <td>1</td>\n",
              "    </tr>\n",
              "  </tbody>\n",
              "</table>\n",
              "</div>"
            ],
            "text/plain": [
              "   age  job  marital  education  ... cons_conf_idx euribor3m nr_employed  y\n",
              "0   44    2        1          1  ...         -36.1     4.963      5228.1  0\n",
              "1   53    3        1          5  ...         -42.0     4.021      5195.8  0\n",
              "2   28    5        2          2  ...         -39.8     0.729      4991.6  1\n",
              "3   39    4        1          3  ...         -47.1     1.405      5099.1  0\n",
              "4   55    6        1          1  ...         -31.4     0.869      5076.2  1\n",
              "\n",
              "[5 rows x 21 columns]"
            ]
          },
          "metadata": {
            "tags": []
          },
          "execution_count": 18
        }
      ]
    },
    {
      "cell_type": "markdown",
      "metadata": {
        "id": "_odz_HDNrXJH"
      },
      "source": [
        "**Filtering Row by Value**"
      ]
    },
    {
      "cell_type": "code",
      "metadata": {
        "id": "iVstWeAvYjHZ"
      },
      "source": [
        "#row filtering by value\n",
        "cat_vars=['job','marital','education','default','housing','loan','contact','month','day_of_week','poutcome']\n",
        "for var in cat_vars:\n",
        "    cat_list='var'+'_'+var\n",
        "    cat_list = pd.get_dummies(data[var], prefix=var)\n",
        "    data1=data.join(cat_list)\n",
        "    data=data1\n",
        "\n",
        "cat_vars=['job','marital','education','default','housing','loan','contact','month','day_of_week','poutcome']\n",
        "data_vars=data.columns.values.tolist()\n",
        "to_keep=[i for i in data_vars if i not in cat_vars]"
      ],
      "execution_count": null,
      "outputs": []
    },
    {
      "cell_type": "code",
      "metadata": {
        "colab": {
          "base_uri": "https://localhost:8080/"
        },
        "id": "oOrWLVycckX5",
        "outputId": "0d95817d-28f5-44f0-b5ae-b6de69335a44"
      },
      "source": [
        "data_final=data[to_keep]\n",
        "data_final.columns.values"
      ],
      "execution_count": null,
      "outputs": [
        {
          "output_type": "execute_result",
          "data": {
            "text/plain": [
              "array(['age', 'duration', 'campaign', 'pdays', 'previous', 'emp_var_rate',\n",
              "       'cons_price_idx', 'cons_conf_idx', 'euribor3m', 'nr_employed', 'y',\n",
              "       'job_1', 'job_2', 'job_3', 'job_4', 'job_5', 'job_6', 'job_7',\n",
              "       'job_8', 'job_9', 'job_10', 'job_11', 'job_12', 'marital_1',\n",
              "       'marital_2', 'marital_3', 'marital_4', 'education_1',\n",
              "       'education_2', 'education_3', 'education_4', 'education_5',\n",
              "       'education_6', 'default_no', 'default_unknown', 'default_yes',\n",
              "       'housing_no', 'housing_unknown', 'housing_yes', 'loan_no',\n",
              "       'loan_unknown', 'loan_yes', 'contact_cellular',\n",
              "       'contact_telephone', 'month_3', 'month_4', 'month_5', 'month_6',\n",
              "       'month_7', 'month_8', 'month_9', 'month_10', 'month_11',\n",
              "       'month_12', 'day_of_week_fri', 'day_of_week_mon',\n",
              "       'day_of_week_thu', 'day_of_week_tue', 'day_of_week_wed',\n",
              "       'poutcome_0', 'poutcome_1', 'poutcome_2'], dtype=object)"
            ]
          },
          "metadata": {
            "tags": []
          },
          "execution_count": 20
        }
      ]
    },
    {
      "cell_type": "markdown",
      "metadata": {
        "id": "UW_m1nA9c8iX"
      },
      "source": [
        "**Over-Sampling using SMOTE**"
      ]
    },
    {
      "cell_type": "code",
      "metadata": {
        "colab": {
          "base_uri": "https://localhost:8080/"
        },
        "id": "oHUEEwGacoRV",
        "outputId": "3eaa4063-c242-436d-fba7-a13149af293b"
      },
      "source": [
        "X = data_final.loc[:, data_final.columns != 'y']\n",
        "y = data_final.loc[:, data_final.columns == 'y']\n",
        "from imblearn.over_sampling import SMOTE\n",
        "os = SMOTE(random_state=0)\n",
        "X_train, X_test, y_train, y_test = train_test_split(X, y, test_size=0.3, random_state=0)\n",
        "columns = X_train.columns\n",
        "os_data_X,os_data_y=os.fit_sample(X_train, y_train)\n",
        "os_data_X = pd.DataFrame(data=os_data_X,columns=columns )\n",
        "os_data_y= pd.DataFrame(data=os_data_y,columns=['y'])\n",
        "# we can Check the numbers of our data\n",
        "print(\"length of oversampled data is \",len(os_data_X))\n",
        "print(\"Number of no subscription in oversampled data\",len(os_data_y[os_data_y['y']==0]))\n",
        "print(\"Number of subscription\",len(os_data_y[os_data_y['y']==1]))\n",
        "print(\"Proportion of no subscription data in oversampled data is \",len(os_data_y[os_data_y['y']==0])/len(os_data_X))\n",
        "print(\"Proportion of subscription data in oversampled data is \",len(os_data_y[os_data_y['y']==1])/len(os_data_X))"
      ],
      "execution_count": null,
      "outputs": [
        {
          "output_type": "stream",
          "text": [
            "/usr/local/lib/python3.7/dist-packages/sklearn/utils/validation.py:760: DataConversionWarning: A column-vector y was passed when a 1d array was expected. Please change the shape of y to (n_samples, ), for example using ravel().\n",
            "  y = column_or_1d(y, warn=True)\n",
            "/usr/local/lib/python3.7/dist-packages/sklearn/utils/deprecation.py:87: FutureWarning: Function safe_indexing is deprecated; safe_indexing is deprecated in version 0.22 and will be removed in version 0.24.\n",
            "  warnings.warn(msg, category=FutureWarning)\n"
          ],
          "name": "stderr"
        },
        {
          "output_type": "stream",
          "text": [
            "length of oversampled data is  51134\n",
            "Number of no subscription in oversampled data 25567\n",
            "Number of subscription 25567\n",
            "Proportion of no subscription data in oversampled data is  0.5\n",
            "Proportion of subscription data in oversampled data is  0.5\n"
          ],
          "name": "stdout"
        }
      ]
    },
    {
      "cell_type": "markdown",
      "metadata": {
        "id": "FH3Z6WULjPwP"
      },
      "source": [
        "**SET DATA**"
      ]
    },
    {
      "cell_type": "code",
      "metadata": {
        "id": "EMFODkC1dU74"
      },
      "source": [
        "#cloumn filtering\n",
        "cols = ['euribor3m', 'job_2', 'job_9',  'marital_4', 'education_6', 'month_3', 'month_4', 'month_5', 'month_6',\n",
        "       'month_7', 'month_8', 'month_10', 'month_11', 'poutcome_0', 'poutcome_1']\n",
        "X = os_data_X[cols]\n",
        "y = os_data_y['y']      "
      ],
      "execution_count": null,
      "outputs": []
    },
    {
      "cell_type": "markdown",
      "metadata": {
        "id": "TPTg7ssHpEYi"
      },
      "source": [
        "**IMPLEMENTING THE MODEL**"
      ]
    },
    {
      "cell_type": "code",
      "metadata": {
        "colab": {
          "base_uri": "https://localhost:8080/"
        },
        "id": "ACGWEE9Xom-U",
        "outputId": "829d68c6-d7e2-4f02-d2b7-79969036ff94"
      },
      "source": [
        "#generating model summary\n",
        "import statsmodels.api as sm\n",
        "logit_model=sm.Logit(y,X)\n",
        "result=logit_model.fit()\n",
        "print(result.summary2())"
      ],
      "execution_count": null,
      "outputs": [
        {
          "output_type": "stream",
          "text": [
            "/usr/local/lib/python3.7/dist-packages/statsmodels/tools/_testing.py:19: FutureWarning: pandas.util.testing is deprecated. Use the functions in the public API at pandas.testing instead.\n",
            "  import pandas.util.testing as tm\n"
          ],
          "name": "stderr"
        },
        {
          "output_type": "stream",
          "text": [
            "Optimization terminated successfully.\n",
            "         Current function value: 0.557850\n",
            "         Iterations 7\n",
            "                         Results: Logit\n",
            "=================================================================\n",
            "Model:              Logit            Pseudo R-squared: 0.195     \n",
            "Dependent Variable: y                AIC:              57080.2468\n",
            "Date:               2021-05-06 15:05 BIC:              57212.8799\n",
            "No. Observations:   51134            Log-Likelihood:   -28525.   \n",
            "Df Model:           14               LL-Null:          -35443.   \n",
            "Df Residuals:       51119            LLR p-value:      0.0000    \n",
            "Converged:          1.0000           Scale:            1.0000    \n",
            "No. Iterations:     7.0000                                       \n",
            "------------------------------------------------------------------\n",
            "              Coef.   Std.Err.     z      P>|z|    [0.025   0.975]\n",
            "------------------------------------------------------------------\n",
            "euribor3m    -0.4409    0.0074  -59.9752  0.0000  -0.4554  -0.4265\n",
            "job_2        -0.2043    0.0278   -7.3497  0.0000  -0.2588  -0.1498\n",
            "job_9        -0.2448    0.0756   -3.2366  0.0012  -0.3930  -0.0966\n",
            "marital_4     0.7580    0.2243    3.3785  0.0007   0.3182   1.1977\n",
            "education_6   1.3102    0.4340    3.0190  0.0025   0.4596   2.1608\n",
            "month_3       2.8088    0.0909   30.9062  0.0000   2.6306   2.9869\n",
            "month_4       1.2656    0.0380   33.3427  0.0000   1.1912   1.3400\n",
            "month_5       0.5555    0.0303   18.3402  0.0000   0.4962   0.6149\n",
            "month_6       1.5230    0.0406   37.4772  0.0000   1.4433   1.6026\n",
            "month_7       1.6367    0.0422   38.8040  0.0000   1.5541   1.7194\n",
            "month_8       1.3571    0.0409   33.1870  0.0000   1.2769   1.4372\n",
            "month_10      2.7191    0.0817   33.2946  0.0000   2.5590   2.8791\n",
            "month_11      1.2378    0.0444   27.9035  0.0000   1.1509   1.3248\n",
            "poutcome_0   -0.2338    0.0348   -6.7134  0.0000  -0.3021  -0.1655\n",
            "poutcome_1    2.0464    0.0599   34.1642  0.0000   1.9290   2.1638\n",
            "=================================================================\n",
            "\n"
          ],
          "name": "stdout"
        }
      ]
    },
    {
      "cell_type": "markdown",
      "metadata": {
        "id": "O0DASahLNorB"
      },
      "source": [
        "**LISTING AND IMPLEMENTING MODELS**"
      ]
    },
    {
      "cell_type": "code",
      "metadata": {
        "id": "ia-yPtEhpO8-"
      },
      "source": [
        "from sklearn.linear_model import LogisticRegression\n",
        "from sklearn.naive_bayes import GaussianNB\n",
        "from sklearn.tree import DecisionTreeClassifier\n",
        "from sklearn.neighbors import KNeighborsClassifier\n",
        "from sklearn.svm import SVC\n",
        "from sklearn.tree import DecisionTreeClassifier\n",
        "from sklearn.ensemble import RandomForestClassifier\n",
        "from sklearn.discriminant_analysis import LinearDiscriminantAnalysis\n",
        "from sklearn.linear_model import LinearRegression\n",
        "from sklearn.linear_model import LogisticRegression\n",
        "from sklearn.linear_model import RidgeClassifier\n",
        "from sklearn.linear_model import Ridge\n",
        "from sklearn.linear_model import Lasso\n",
        "from sklearn.linear_model import BayesianRidge\n",
        "from sklearn.linear_model import PassiveAggressiveClassifier\n",
        "from sklearn.linear_model import PassiveAggressiveRegressor\n",
        "from sklearn.linear_model import Perceptron\n",
        "from sklearn.linear_model import HuberRegressor\n",
        "from sklearn.linear_model import LassoCV\n",
        "from sklearn.linear_model import ElasticNet\n",
        "from sklearn import metrics\n",
        "X_train, X_test, y_train, y_test = train_test_split(X, y, test_size=0.3, random_state=0)"
      ],
      "execution_count": null,
      "outputs": []
    },
    {
      "cell_type": "code",
      "metadata": {
        "id": "5_MIqPEjNiUv"
      },
      "source": [
        "clf = []\n",
        "clf.append(('NB ', GaussianNB()))\n",
        "clf.append(('LogReg ', LogisticRegression(random_state=9)))\n",
        "clf.append(('DT ', DecisionTreeClassifier(random_state = 9)))\n",
        "clf.append(('KNN ', KNeighborsClassifier()))\n",
        "clf.append(('SVM', SVC(random_state = 9)))\n",
        "clf.append(('RFC', RandomForestClassifier(n_estimators=100, random_state=9)))\n",
        "clf.append(('LDA', LinearDiscriminantAnalysis()))\n",
        "clf.append(('LinearReg', LinearRegression()))\n",
        "clf.append(('LogReg', LogisticRegression()))\n",
        "clf.append(('Ridge', RidgeClassifier()))\n",
        "clf.append(('Lasso', Lasso()))\n",
        "clf.append(('BR', BayesianRidge()))\n",
        "clf.append(('PAC', PassiveAggressiveClassifier()))\n",
        "clf.append(('PAR', PassiveAggressiveRegressor()))\n",
        "clf.append(('Perceptron', Perceptron()))\n",
        "clf.append(('HuberReg', HuberRegressor()))\n",
        "clf.append(('LassoCV', LassoCV()))\n",
        "clf.append(('ElasticNet', LassoCV()))"
      ],
      "execution_count": null,
      "outputs": []
    },
    {
      "cell_type": "code",
      "metadata": {
        "colab": {
          "base_uri": "https://localhost:8080/"
        },
        "id": "k7zhh38NqZrW",
        "outputId": "f3f79456-5309-49b6-c404-7714b66e145e"
      },
      "source": [
        "for i, j in clf:\n",
        "  j.fit(X_train, y_train)\n",
        "  y_pred = j.predict(X_test)\n",
        "  print(y_pred, ' Accuracy for ',i, ' = ', j.score(X_test, y_test))"
      ],
      "execution_count": null,
      "outputs": [
        {
          "output_type": "stream",
          "text": [
            "[0 0 0 ... 0 1 0]  Accuracy for  NB   =  0.6652760576233623\n",
            "[0 1 1 ... 0 1 0]  Accuracy for  LogReg   =  0.7361319340329835\n",
            "[1 1 0 ... 1 1 1]  Accuracy for  DT   =  0.9200182517436933\n",
            "[1 1 0 ... 1 1 1]  Accuracy for  KNN   =  0.9097190535167199\n",
            "[0 1 1 ... 1 1 0]  Accuracy for  SVM  =  0.8233491949677335\n",
            "[1 1 0 ... 1 1 1]  Accuracy for  RFC  =  0.9219737957108403\n",
            "[0 1 1 ... 0 1 0]  Accuracy for  LDA  =  0.7305260413271625\n",
            "[0.36633115 0.75868804 0.62996477 ... 0.36056057 0.66485734 0.1501571 ]  Accuracy for  LinearReg  =  0.25842978764532043\n",
            "[0 1 1 ... 0 1 0]  Accuracy for  LogReg  =  0.7361319340329835\n",
            "[0 1 1 ... 0 1 0]  Accuracy for  Ridge  =  0.7305260413271625\n",
            "[0.49987428 0.49987428 0.49987428 ... 0.49987428 0.49987428 0.49987428]  Accuracy for  Lasso  =  -7.0242694372169e-07\n",
            "[0.36689035 0.75767044 0.63080013 ... 0.36052996 0.66557849 0.15012185]  Accuracy for  BR  =  0.25842930297207634\n",
            "[0 0 0 ... 0 1 0]  Accuracy for  PAC  =  0.6378984420833061\n",
            "[0.39943725 1.15386612 0.54136436 ... 0.22479613 0.74552666 0.26468917]  Accuracy for  PAR  =  -0.15757225433159072\n",
            "[0 0 1 ... 0 0 0]  Accuracy for  Perceptron  =  0.57323512156965\n"
          ],
          "name": "stdout"
        },
        {
          "output_type": "stream",
          "text": [
            "/usr/local/lib/python3.7/dist-packages/sklearn/linear_model/_huber.py:296: ConvergenceWarning: lbfgs failed to converge (status=1):\n",
            "STOP: TOTAL NO. of ITERATIONS REACHED LIMIT.\n",
            "\n",
            "Increase the number of iterations (max_iter) or scale the data as shown in:\n",
            "    https://scikit-learn.org/stable/modules/preprocessing.html\n",
            "  self.n_iter_ = _check_optimize_result(\"lbfgs\", opt_res, self.max_iter)\n"
          ],
          "name": "stderr"
        },
        {
          "output_type": "stream",
          "text": [
            "[0.10752829 0.93224601 0.84867115 ... 0.06351589 0.93368524 0.01240707]  Accuracy for  HuberReg  =  0.027774371959203625\n",
            "[0.37035193 0.7535515  0.6392784  ... 0.35769021 0.67006588 0.14854741]  Accuracy for  LassoCV  =  0.2581421244396719\n",
            "[0.37035193 0.7535515  0.6392784  ... 0.35769021 0.67006588 0.14854741]  Accuracy for  ElasticNet  =  0.2581421244396719\n"
          ],
          "name": "stdout"
        }
      ]
    },
    {
      "source": [
        "Thus we observe that the Random Forest Classifier gives us maximum accuracy out of all the present models"
      ],
      "cell_type": "markdown",
      "metadata": {
        "id": "--hO_ag7qf7O"
      }
    },
    {
      "source": [
        "This is mainly due to low variace of decision trees and low bias from random feature and row sampling in the random forest model"
      ],
      "cell_type": "markdown",
      "metadata": {}
    },
    {
      "cell_type": "code",
      "execution_count": null,
      "metadata": {},
      "outputs": [],
      "source": []
    }
  ]
}